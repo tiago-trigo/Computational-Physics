{
 "cells": [
  {
   "cell_type": "code",
   "execution_count": 1,
   "id": "6384e10c",
   "metadata": {},
   "outputs": [],
   "source": [
    "import numpy as np \n",
    "import matplotlib.pyplot as plt"
   ]
  },
  {
   "cell_type": "markdown",
   "id": "6efc3ffc",
   "metadata": {},
   "source": [
    "## Exercise 1"
   ]
  },
  {
   "cell_type": "code",
   "execution_count": 2,
   "id": "2a72921a",
   "metadata": {},
   "outputs": [],
   "source": [
    "class Astro:\n",
    "    def __init__(self, v1, l1):\n",
    "        self.v1 = v1\n",
    "        self.l1 = l1\n",
    "        self.G = 6.6738*(10**-11)\n",
    "        self.M = 1.9891*(10**30)\n",
    "        \n",
    "    def find_v2(self):\n",
    "        a = 1\n",
    "        b = (-2*self.G*self.M)/(self.v1*self.l1)\n",
    "        c = -(self.v1**2-(2*self.G*self.M)/(self.l1))\n",
    "        s1 = (-b + np.sqrt(b**2-4*a*c))/(2*a)\n",
    "        s2 = (-b - np.sqrt(b**2-4*a*c))/(2*a)   \n",
    "        \n",
    "        return min(s1,s2)\n",
    "    \n",
    "    def find_l2(self):\n",
    "        return (self.l1 * self.v1)/self.find_v2()\n",
    "    \n",
    "    def find_a(self):\n",
    "        return 0.5*(self.l1+self.find_l2())\n",
    "    \n",
    "    def find_b(self):\n",
    "        return np.sqrt(self.l1*self.find_l2())\n",
    "        \n",
    "    def find_T(self):\n",
    "        return (2*np.pi*self.find_a()*self.find_b())/(self.l1*self.v1)\n",
    "        \n",
    "    def find_e(self):\n",
    "        return (self.find_l2() - self.l1)/(self.find_l2() + self.l1)\n",
    "        "
   ]
  },
  {
   "cell_type": "code",
   "execution_count": 3,
   "id": "33a0fe5d",
   "metadata": {},
   "outputs": [],
   "source": [
    "terra = Astro(3.0287*(10**4), 1.4710*(10**11))"
   ]
  },
  {
   "cell_type": "code",
   "execution_count": 4,
   "id": "e6fee004",
   "metadata": {},
   "outputs": [
    {
     "name": "stdout",
     "output_type": "stream",
     "text": [
      "V2  29305.399177261148\n",
      "L2  152027197208.66058\n",
      "a  149563598604.3303\n",
      "b  149543307136.74207\n",
      "T  31543060.20788706\n",
      "e  0.016471913134744297\n"
     ]
    }
   ],
   "source": [
    "print(\"V2 \", terra.find_v2())\n",
    "print(\"L2 \", terra.find_l2())\n",
    "print(\"a \", terra.find_a())\n",
    "print(\"b \", terra.find_b())\n",
    "print(\"T \", terra.find_T())\n",
    "print(\"e \", terra.find_e())"
   ]
  },
  {
   "cell_type": "code",
   "execution_count": 5,
   "id": "97324381",
   "metadata": {},
   "outputs": [],
   "source": [
    "halley = Astro(5.4529*(10**4), 8.7830*(10**10))"
   ]
  },
  {
   "cell_type": "code",
   "execution_count": 6,
   "id": "3ed83d3d",
   "metadata": {},
   "outputs": [
    {
     "name": "stdout",
     "output_type": "stream",
     "text": [
      "V2\t 906.6806969191493\n",
      "L2\t 5282214660876.441\n",
      "a\t 2685022330438.2207\n",
      "b\t 681129146098.431\n",
      "T\t 2399312511.8451877\n",
      "e\t 0.9672889126454061\n"
     ]
    }
   ],
   "source": [
    "print(\"V2\\t\", halley.find_v2())\n",
    "print(\"L2\\t\", halley.find_l2())\n",
    "print(\"a\\t\", halley.find_a())\n",
    "print(\"b\\t\", halley.find_b())\n",
    "print(\"T\\t\", halley.find_T())\n",
    "print(\"e\\t\", halley.find_e())"
   ]
  },
  {
   "cell_type": "markdown",
   "id": "83923c9f",
   "metadata": {},
   "source": [
    "## Exercise 2"
   ]
  },
  {
   "cell_type": "code",
   "execution_count": 7,
   "id": "b72c20b6",
   "metadata": {},
   "outputs": [],
   "source": [
    "def catalan(c0, n):\n",
    "    \n",
    "    if c0 > 10**6:\n",
    "        return \"\"\n",
    "    print(c0)\n",
    "    catalan((4*n+2)/(n+2)*c0, n+1)"
   ]
  },
  {
   "cell_type": "code",
   "execution_count": 8,
   "id": "806ca516",
   "metadata": {},
   "outputs": [
    {
     "name": "stdout",
     "output_type": "stream",
     "text": [
      "1\n",
      "1.0\n",
      "2.0\n",
      "5.0\n",
      "14.0\n",
      "42.0\n",
      "132.0\n",
      "429.0\n",
      "1430.0\n",
      "4862.0\n",
      "16796.0\n",
      "58786.0\n",
      "208012.0\n",
      "742900.0\n"
     ]
    }
   ],
   "source": [
    "catalan(1, 0)"
   ]
  },
  {
   "cell_type": "markdown",
   "id": "0779317f",
   "metadata": {},
   "source": [
    "## Exercise 3"
   ]
  },
  {
   "cell_type": "code",
   "execution_count": 13,
   "id": "1fdfad04",
   "metadata": {},
   "outputs": [],
   "source": [
    "def madelung(L):\n",
    "    sum = []\n",
    "    for j in range (-L,L+1):\n",
    "        for i in range(-L,L+1):\n",
    "            for k in range(-L,L+1):\n",
    "                if i == j == k == 0:\n",
    "                    pass\n",
    "                elif (j + i + k)%2 == 0:\n",
    "                    sum.append(1/np.sqrt(i**2+j**2+k**2))\n",
    "                else:\n",
    "                    sum.append(-1/np.sqrt(i**2+j**2+k**2))\n",
    "    return np.sum(sum)"
   ]
  },
  {
   "cell_type": "code",
   "execution_count": 14,
   "id": "3a8f8682",
   "metadata": {},
   "outputs": [
    {
     "data": {
      "text/plain": [
       "-1.7418198158362386"
      ]
     },
     "execution_count": 14,
     "metadata": {},
     "output_type": "execute_result"
    }
   ],
   "source": [
    "madelung(100)"
   ]
  },
  {
   "cell_type": "markdown",
   "id": "d8b8a198",
   "metadata": {},
   "source": [
    "## Exercise 4"
   ]
  },
  {
   "cell_type": "code",
   "execution_count": 26,
   "id": "43d7a386",
   "metadata": {},
   "outputs": [],
   "source": [
    "def binomial(n, k):\n",
    "    if k == 0:\n",
    "        return 1\n",
    "    else:\n",
    "        return int((np.math.factorial(n))/(np.math.factorial(k)*np.math.factorial(n-k)))"
   ]
  },
  {
   "cell_type": "code",
   "execution_count": 27,
   "id": "295ccb0d",
   "metadata": {},
   "outputs": [
    {
     "data": {
      "text/plain": [
       "1"
      ]
     },
     "execution_count": 27,
     "metadata": {},
     "output_type": "execute_result"
    }
   ],
   "source": [
    "binomial(10,0)"
   ]
  },
  {
   "cell_type": "code",
   "execution_count": 28,
   "id": "ed54d321",
   "metadata": {},
   "outputs": [
    {
     "data": {
      "text/plain": [
       "252"
      ]
     },
     "execution_count": 28,
     "metadata": {},
     "output_type": "execute_result"
    }
   ],
   "source": [
    "binomial(10,5)"
   ]
  },
  {
   "cell_type": "code",
   "execution_count": 43,
   "id": "a862c298",
   "metadata": {},
   "outputs": [],
   "source": [
    "def Pascal(L):\n",
    "    for i in range(1, L+1):\n",
    "        string = \" \"*(L-i)\n",
    "        for j in range(i+1):\n",
    "            string += \" \" + str(binomial(i, j))\n",
    "        print(string)"
   ]
  },
  {
   "cell_type": "code",
   "execution_count": 48,
   "id": "954c5fea",
   "metadata": {},
   "outputs": [
    {
     "name": "stdout",
     "output_type": "stream",
     "text": [
      "     1 1\n",
      "    1 2 1\n",
      "   1 3 3 1\n",
      "  1 4 6 4 1\n",
      " 1 5 10 10 5 1\n"
     ]
    }
   ],
   "source": [
    "Pascal(5)"
   ]
  },
  {
   "cell_type": "code",
   "execution_count": 49,
   "id": "157757bd",
   "metadata": {},
   "outputs": [
    {
     "name": "stdout",
     "output_type": "stream",
     "text": [
      "0.010843866711637987\n"
     ]
    }
   ],
   "source": [
    "print(binomial(100, 60)/2**100)"
   ]
  },
  {
   "cell_type": "code",
   "execution_count": 56,
   "id": "8850c252",
   "metadata": {},
   "outputs": [
    {
     "name": "stdout",
     "output_type": "stream",
     "text": [
      "0.028443966820490392\n"
     ]
    }
   ],
   "source": [
    "sum = 0\n",
    "for i in range(60,101):\n",
    "    sum += binomial(100, i)/2**100\n",
    "print(sum)"
   ]
  },
  {
   "cell_type": "markdown",
   "id": "3c4d3f17",
   "metadata": {},
   "source": [
    "## Exercise 5"
   ]
  },
  {
   "cell_type": "code",
   "execution_count": 65,
   "id": "50bbbf64",
   "metadata": {},
   "outputs": [],
   "source": [
    "def primos(start, stop):\n",
    "    lista = [2]\n",
    "    for n in range(start, stop+1):\n",
    "        for primo in lista:\n",
    "            if primo > np.sqrt(n):\n",
    "                lista.append(n)\n",
    "                break\n",
    "            elif n%primo == 0:\n",
    "                break\n",
    "\n",
    "    return lista           "
   ]
  },
  {
   "cell_type": "code",
   "execution_count": 68,
   "id": "94b80eb6",
   "metadata": {},
   "outputs": [
    {
     "name": "stdout",
     "output_type": "stream",
     "text": [
      "[2, 3, 5, 7, 11, 13, 17, 19, 23, 29, 31, 37, 41, 43, 47, 53, 59, 61, 67, 71, 73, 79, 83, 89, 97, 101, 103, 107, 109, 113, 127, 131, 137, 139, 149, 151, 157, 163, 167, 173, 179, 181, 191, 193, 197, 199, 211, 223, 227, 229, 233, 239, 241, 251, 257, 263, 269, 271, 277, 281, 283, 293, 307, 311, 313, 317, 331, 337, 347, 349, 353, 359, 367, 373, 379, 383, 389, 397, 401, 409, 419, 421, 431, 433, 439, 443, 449, 457, 461, 463, 467, 479, 487, 491, 499, 503, 509, 521, 523, 541, 547, 557, 563, 569, 571, 577, 587, 593, 599, 601, 607, 613, 617, 619, 631, 641, 643, 647, 653, 659, 661, 673, 677, 683, 691, 701, 709, 719, 727, 733, 739, 743, 751, 757, 761, 769, 773, 787, 797, 809, 811, 821, 823, 827, 829, 839, 853, 857, 859, 863, 877, 881, 883, 887, 907, 911, 919, 929, 937, 941, 947, 953, 967, 971, 977, 983, 991, 997]\n"
     ]
    }
   ],
   "source": [
    "print(primos(3,1000))"
   ]
  },
  {
   "cell_type": "code",
   "execution_count": 69,
   "id": "af3b6c04",
   "metadata": {},
   "outputs": [
    {
     "data": {
      "text/plain": [
       "168"
      ]
     },
     "execution_count": 69,
     "metadata": {},
     "output_type": "execute_result"
    }
   ],
   "source": [
    "len(primos(3,1000))"
   ]
  },
  {
   "cell_type": "markdown",
   "id": "0f9c1ea9",
   "metadata": {},
   "source": [
    "## Exercise 6"
   ]
  },
  {
   "cell_type": "code",
   "execution_count": 81,
   "id": "e7e7467d",
   "metadata": {},
   "outputs": [],
   "source": [
    "def catalan2(n):\n",
    "    if n == 0:\n",
    "        return 1\n",
    "    else:\n",
    "        return int((4*n-2)/(n+1) * catalan2(n-1))"
   ]
  },
  {
   "cell_type": "code",
   "execution_count": 87,
   "id": "e80e0728",
   "metadata": {},
   "outputs": [
    {
     "data": {
      "text/plain": [
       "16796"
      ]
     },
     "execution_count": 87,
     "metadata": {},
     "output_type": "execute_result"
    }
   ],
   "source": [
    "catalan2(10)"
   ]
  },
  {
   "cell_type": "code",
   "execution_count": 89,
   "id": "dee9f050",
   "metadata": {},
   "outputs": [],
   "source": [
    "def mdc(m,n):\n",
    "    if n == 0:\n",
    "        return m\n",
    "    else:\n",
    "        return mdc(n, m%n)"
   ]
  },
  {
   "cell_type": "code",
   "execution_count": 90,
   "id": "b34aaad2",
   "metadata": {},
   "outputs": [
    {
     "data": {
      "text/plain": [
       "12"
      ]
     },
     "execution_count": 90,
     "metadata": {},
     "output_type": "execute_result"
    }
   ],
   "source": [
    "mdc(108,192)"
   ]
  },
  {
   "cell_type": "markdown",
   "id": "6fbef260",
   "metadata": {},
   "source": [
    "### End of sheet 1"
   ]
  }
 ],
 "metadata": {
  "kernelspec": {
   "display_name": "Python 3",
   "language": "python",
   "name": "python3"
  },
  "language_info": {
   "codemirror_mode": {
    "name": "ipython",
    "version": 3
   },
   "file_extension": ".py",
   "mimetype": "text/x-python",
   "name": "python",
   "nbconvert_exporter": "python",
   "pygments_lexer": "ipython3",
   "version": "3.9.7"
  }
 },
 "nbformat": 4,
 "nbformat_minor": 5
}
