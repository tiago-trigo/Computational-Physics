{
 "cells": [
  {
   "cell_type": "markdown",
   "id": "8c4ea2fc",
   "metadata": {},
   "source": [
    "## Exercício 1"
   ]
  },
  {
   "cell_type": "code",
   "execution_count": 9,
   "id": "84f515fc",
   "metadata": {},
   "outputs": [],
   "source": [
    "import numpy as np\n",
    "import matplotlib.pyplot as plt"
   ]
  },
  {
   "cell_type": "code",
   "execution_count": 10,
   "id": "8c82bb49",
   "metadata": {},
   "outputs": [],
   "source": [
    "def factorial(n):\n",
    "    x = 1\n",
    "    for i in range(1, n+1):\n",
    "        x *= i\n",
    "    return x"
   ]
  },
  {
   "cell_type": "code",
   "execution_count": 25,
   "id": "de097e6a",
   "metadata": {},
   "outputs": [
    {
     "data": {
      "text/plain": [
       "788657867364790503552363213932185062295135977687173263294742533244359449963403342920304284011984623904177212138919638830257642790242637105061926624952829931113462857270763317237396988943922445621451664240254033291864131227428294853277524242407573903240321257405579568660226031904170324062351700858796178922222789623703897374720000000000000000000000000000000000000000000000000"
      ]
     },
     "execution_count": 25,
     "metadata": {},
     "output_type": "execute_result"
    }
   ],
   "source": [
    "factorial(200)"
   ]
  },
  {
   "cell_type": "code",
   "execution_count": 30,
   "id": "ff0aa307",
   "metadata": {},
   "outputs": [],
   "source": [
    "def factorial2(n):\n",
    "    x = float(1.0)\n",
    "    for i in range(1, n+1):\n",
    "        x *= i\n",
    "    return x"
   ]
  },
  {
   "cell_type": "code",
   "execution_count": 38,
   "id": "62aae695",
   "metadata": {},
   "outputs": [
    {
     "data": {
      "text/plain": [
       "inf"
      ]
     },
     "execution_count": 38,
     "metadata": {},
     "output_type": "execute_result"
    }
   ],
   "source": [
    "%factorial2(200)"
   ]
  },
  {
   "cell_type": "markdown",
   "id": "fc1dac3f",
   "metadata": {},
   "source": [
    "## Exercício 2"
   ]
  },
  {
   "cell_type": "code",
   "execution_count": 41,
   "id": "cdb52007",
   "metadata": {},
   "outputs": [],
   "source": [
    "def quadratic(a,b,c):\n",
    "    delta = np.sqrt(b**2-4*a*c)\n",
    "    x1 = (-b+delta)/(2*a)\n",
    "    x2 = (-b-delta)/(2*a)\n",
    "    x3 = (2*c)/(-b-delta)\n",
    "    x4 = (2*c)/(-b+delta)\n",
    "    return x1, x2, x3, x4"
   ]
  },
  {
   "cell_type": "code",
   "execution_count": 42,
   "id": "46299645",
   "metadata": {},
   "outputs": [
    {
     "data": {
      "text/plain": [
       "(-9.999894245993346e-07,\n",
       " -999999.999999,\n",
       " -1.000000000001e-06,\n",
       " -1000010.5755125057)"
      ]
     },
     "execution_count": 42,
     "metadata": {},
     "output_type": "execute_result"
    }
   ],
   "source": [
    "quadratic(0.001, 1000, 0.001)"
   ]
  },
  {
   "cell_type": "code",
   "execution_count": 21,
   "id": "1b802a52",
   "metadata": {},
   "outputs": [],
   "source": []
  },
  {
   "cell_type": "code",
   "execution_count": 24,
   "id": "ccb61873",
   "metadata": {},
   "outputs": [
    {
     "data": {
      "text/plain": [
       "(-1.000000000001e-06, -1000010.5755125057)"
      ]
     },
     "execution_count": 24,
     "metadata": {},
     "output_type": "execute_result"
    }
   ],
   "source": []
  },
  {
   "cell_type": "code",
   "execution_count": null,
   "id": "c07287f4",
   "metadata": {},
   "outputs": [],
   "source": []
  },
  {
   "cell_type": "markdown",
   "id": "6ef9edc0",
   "metadata": {},
   "source": [
    "## Exercício 3"
   ]
  },
  {
   "cell_type": "code",
   "execution_count": 53,
   "id": "251c19be",
   "metadata": {},
   "outputs": [],
   "source": [
    "def f(x):\n",
    "    return x*(x-1)\n",
    "\n",
    "def derivative(delta, x):\n",
    "    return (f(x+delta)-f(x))/delta"
   ]
  },
  {
   "cell_type": "code",
   "execution_count": 54,
   "id": "0ac4b660",
   "metadata": {},
   "outputs": [
    {
     "data": {
      "text/plain": [
       "1.010000000000001"
      ]
     },
     "execution_count": 54,
     "metadata": {},
     "output_type": "execute_result"
    }
   ],
   "source": [
    "derivative(0.01, 1)"
   ]
  },
  {
   "cell_type": "code",
   "execution_count": 55,
   "id": "c877731b",
   "metadata": {},
   "outputs": [
    {
     "data": {
      "text/plain": [
       "1.0000999999998899"
      ]
     },
     "execution_count": 55,
     "metadata": {},
     "output_type": "execute_result"
    }
   ],
   "source": [
    "derivative(0.0001, 1)"
   ]
  },
  {
   "cell_type": "code",
   "execution_count": 56,
   "id": "bc28d904",
   "metadata": {},
   "outputs": [
    {
     "data": {
      "text/plain": [
       "1.0000009999177333"
      ]
     },
     "execution_count": 56,
     "metadata": {},
     "output_type": "execute_result"
    }
   ],
   "source": [
    "derivative(0.000001, 1)"
   ]
  },
  {
   "cell_type": "code",
   "execution_count": 57,
   "id": "5912f49b",
   "metadata": {},
   "outputs": [
    {
     "data": {
      "text/plain": [
       "1.0000000039225287"
      ]
     },
     "execution_count": 57,
     "metadata": {},
     "output_type": "execute_result"
    }
   ],
   "source": [
    "derivative(0.00000001, 1)"
   ]
  },
  {
   "cell_type": "code",
   "execution_count": 58,
   "id": "59a72cf2",
   "metadata": {},
   "outputs": [
    {
     "data": {
      "text/plain": [
       "1.000000082840371"
      ]
     },
     "execution_count": 58,
     "metadata": {},
     "output_type": "execute_result"
    }
   ],
   "source": [
    "derivative(0.0000000001, 1)"
   ]
  },
  {
   "cell_type": "code",
   "execution_count": 59,
   "id": "6cb2301a",
   "metadata": {},
   "outputs": [
    {
     "data": {
      "text/plain": [
       "1.0000889005833413"
      ]
     },
     "execution_count": 59,
     "metadata": {},
     "output_type": "execute_result"
    }
   ],
   "source": [
    "derivative(0.000000000001, 1)"
   ]
  },
  {
   "cell_type": "markdown",
   "id": "1797d6ab",
   "metadata": {},
   "source": [
    "## Exercício 4"
   ]
  },
  {
   "cell_type": "code",
   "execution_count": 83,
   "id": "3009f3e8",
   "metadata": {},
   "outputs": [],
   "source": [
    "def f2(x):\n",
    "    return np.sqrt(1-x**2)\n",
    "\n",
    "def integral(N, x1, x2):\n",
    "    h = abs(x2-x1)/N\n",
    "    xk = np.linspace(-1,1,N)\n",
    "    return np.sum(h*np.sqrt(1-xk**2))\n",
    "\n",
    "    \n",
    "    "
   ]
  },
  {
   "cell_type": "code",
   "execution_count": 84,
   "id": "78934fe2",
   "metadata": {},
   "outputs": [
    {
     "name": "stdout",
     "output_type": "stream",
     "text": [
      "1.06 s ± 0 ns per loop (mean ± std. dev. of 1 run, 1 loop each)\n"
     ]
    }
   ],
   "source": [
    "%timeit -r1 -n1 integral(80000000,-1,1)"
   ]
  }
 ],
 "metadata": {
  "kernelspec": {
   "display_name": "Python 3",
   "language": "python",
   "name": "python3"
  },
  "language_info": {
   "codemirror_mode": {
    "name": "ipython",
    "version": 3
   },
   "file_extension": ".py",
   "mimetype": "text/x-python",
   "name": "python",
   "nbconvert_exporter": "python",
   "pygments_lexer": "ipython3",
   "version": "3.9.7"
  }
 },
 "nbformat": 4,
 "nbformat_minor": 5
}
