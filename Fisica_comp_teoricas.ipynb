{
 "cells": [
  {
   "cell_type": "markdown",
   "id": "356b2951",
   "metadata": {},
   "source": [
    "# Aula 2"
   ]
  },
  {
   "cell_type": "code",
   "execution_count": 1,
   "id": "17db5b85",
   "metadata": {},
   "outputs": [],
   "source": [
    "import numpy as np\n",
    "import matplotlib.pyplot as plt\n",
    "%matplotlib inline"
   ]
  },
  {
   "cell_type": "markdown",
   "id": "7fde7f42",
   "metadata": {},
   "source": [
    "### Progressão aritmética\n",
    "\n",
    "\\begin{align}\n",
    "a_{n+1} = a_{n} + C \\\\\n",
    "a_{n} = a_{0} + n * C \\\\\n",
    "S_n = \\sum_{n = 0}^{n-1} a_n & = \\frac{a_0 + a_{n-1}}{2}n \\\\\n",
    "\\end{align}"
   ]
  },
  {
   "cell_type": "code",
   "execution_count": 2,
   "id": "20f4c014",
   "metadata": {},
   "outputs": [
    {
     "name": "stdout",
     "output_type": "stream",
     "text": [
      "34   34.0\n"
     ]
    }
   ],
   "source": [
    "a0 = 4\n",
    "C = 3\n",
    "n = 4\n",
    "soma = 0\n",
    "\n",
    "for i in range(n):\n",
    "    ai = a0 + i * C\n",
    "    soma += ai\n",
    "\n",
    "print(soma, \" \", (a0 + (a0 + (n-1) * C))/2 * n)"
   ]
  },
  {
   "cell_type": "markdown",
   "id": "d582a27e",
   "metadata": {},
   "source": [
    "### Progressão geométrica\n",
    "\n",
    "\\begin{align}\n",
    "a_{n} = a_{n-1} * r \\\\\n",
    "a_n = a_0 * r^n\n",
    "\\end{align}\n",
    "\n",
    "A soma da progresão geométrica é dada por:\n",
    "\n",
    "\\begin{align}\n",
    "S_n = a_0 \\frac{1-r^n}{1-r}\n",
    "\\end{align}\n"
   ]
  },
  {
   "cell_type": "code",
   "execution_count": 3,
   "id": "9e5528c7",
   "metadata": {},
   "outputs": [
    {
     "name": "stdout",
     "output_type": "stream",
     "text": [
      "160   160.0\n"
     ]
    }
   ],
   "source": [
    "ai = 4\n",
    "r = 3\n",
    "n = 4\n",
    "soma = 0\n",
    "\n",
    "for i in range(n):\n",
    "    soma += ai\n",
    "    ai *= r\n",
    "\n",
    "print(soma, \" \", a0 * (1-r**n)/(1-r))"
   ]
  },
  {
   "cell_type": "markdown",
   "id": "c0b2fe33",
   "metadata": {},
   "source": [
    "### Expansão em série de Taylor\n",
    "\n",
    "\\begin{align}\n",
    "exp(x) = 1 + x + \\frac{x^2}{2} + \\frac{x^3}{3!} + \\cdots + \\frac{x^n}{n!} = \\sum_{n = 0}^{+\\infty} \\frac{x^n}{n!}\n",
    "\\end{align}\n",
    "\n",
    "\\begin{align}\n",
    "a_n = \\frac{x^n}{n!} \\\\\n",
    "a_{n-1} = \\frac{x^{n-1}}{{n-1}!} \\\\\n",
    "\\frac{a_n}{a_{n-1}} = \\frac{\\frac{x^n}{n!}}{\\frac{x^{n-1}}{{n-1}!}} = \\frac{x^n (n-1)!}{n!x^{n+1}} = \\frac{x}{n}\n",
    "\\end{align}\n"
   ]
  },
  {
   "cell_type": "code",
   "execution_count": 4,
   "id": "4850ab84",
   "metadata": {},
   "outputs": [
    {
     "data": {
      "image/png": "[encoded data removed]",
      "text/plain": [
       "<Figure size 432x288 with 1 Axes>"
      ]
     },
     "metadata": {},
     "output_type": "display_data"
    }
   ],
   "source": [
    "plt.style.use(\"fivethirtyeight\")\n",
    "XMIN = 0\n",
    "XMAX = 10\n",
    "NPONTOS = 10\n",
    "x_val = [XMIN + (XMAX - XMIN)/NPONTOS * i for i in range(NPONTOS + 1)]\n",
    "\n",
    "MAX = 10\n",
    "\n",
    "soma_exp = np.array([])\n",
    "exp = np.array([])\n",
    "ai = 1\n",
    "x = 1.5\n",
    "\n",
    "for x in x_val:\n",
    "    soma = 0\n",
    "    ai = 1\n",
    "    for i in range(MAX):\n",
    "        soma += ai\n",
    "        ai *= x/(i+1)\n",
    "    soma_exp = np.append(soma_exp, soma)\n",
    "    exp = np.append(exp, np.exp(x))\n",
    "\n",
    "plt.plot(x_val, soma_exp, \"o\")\n",
    "plt.plot(x_val, exp, \"--\")\n",
    "plt.yscale(\"log\")"
   ]
  },
  {
   "cell_type": "markdown",
   "id": "3304312f",
   "metadata": {},
   "source": [
    "# Aula 3"
   ]
  },
  {
   "cell_type": "code",
   "execution_count": 5,
   "id": "2e6cf8f4",
   "metadata": {},
   "outputs": [
    {
     "data": {
      "image/png": "[encoded data removed]",
      "text/plain": [
       "<Figure size 432x288 with 1 Axes>"
      ]
     },
     "metadata": {},
     "output_type": "display_data"
    }
   ],
   "source": [
    "XMIN = 0.0\n",
    "XMAX = 15.0\n",
    "NPONTOS = 10\n",
    "x = np.linspace(XMIN, XMAX, NPONTOS)\n",
    "exp = np.exp(x)\n",
    "soma_exp = np.zeros(NPONTOS, dtype = float)\n",
    "ai =  np.zeros(NPONTOS, dtype = float) + 1.0\n",
    "\n",
    "for i in range(MAX):\n",
    "    soma_exp += ai\n",
    "    ai *= x/(i+1)\n",
    "\n",
    "plt.plot(x, soma_exp, \"o\")\n",
    "plt.plot(x, exp, \"--\")\n",
    "plt.yscale(\"log\")"
   ]
  },
  {
   "cell_type": "code",
   "execution_count": 6,
   "id": "bbe84bc0",
   "metadata": {},
   "outputs": [
    {
     "name": "stdout",
     "output_type": "stream",
     "text": [
      "0 1 1 2 3 5 8 \n"
     ]
    }
   ],
   "source": [
    "def fib(n):\n",
    "    \"\"\"\n",
    "    prints the Fibonacci number until n\n",
    "    \n",
    "    F_0 = 0\n",
    "    F_1 = 1\n",
    "    f_i = f_{i-1} + F_{i-1}\n",
    "    \"\"\"\n",
    "    \n",
    "    a, b = 0, 1\n",
    "    \n",
    "    while a < n:\n",
    "        print(a, end = \" \")\n",
    "        a, b = b, a + b\n",
    "    print()\n",
    "\n",
    "fib(11)\n",
    "\n"
   ]
  },
  {
   "cell_type": "code",
   "execution_count": 7,
   "id": "b8e53dd0",
   "metadata": {},
   "outputs": [
    {
     "name": "stdout",
     "output_type": "stream",
     "text": [
      "Help on function fib in module __main__:\n",
      "\n",
      "fib(n)\n",
      "    prints the Fibonacci number until n\n",
      "    \n",
      "    F_0 = 0\n",
      "    F_1 = 1\n",
      "    f_i = f_{i-1} + F_{i-1}\n",
      "\n"
     ]
    }
   ],
   "source": [
    "help(fib)"
   ]
  },
  {
   "cell_type": "markdown",
   "id": "d6e08eb6",
   "metadata": {},
   "source": [
    "# Aula 4 (14/03)"
   ]
  },
  {
   "cell_type": "markdown",
   "id": "a0e36489",
   "metadata": {},
   "source": [
    "## Variáveis externas e funções"
   ]
  },
  {
   "cell_type": "code",
   "execution_count": 8,
   "id": "d97a71f4",
   "metadata": {},
   "outputs": [
    {
     "name": "stdout",
     "output_type": "stream",
     "text": [
      "dentro:  1\n",
      "fora:  2\n",
      "dentro:  1\n",
      "fora:  10\n"
     ]
    }
   ],
   "source": [
    "a = 2\n",
    "\n",
    "def g():\n",
    "    a = 1\n",
    "    print(\"dentro: \", a)\n",
    "\n",
    "g()\n",
    "print(\"fora: \", a)\n",
    "a = 10\n",
    "g()\n",
    "print(\"fora: \", a)"
   ]
  },
  {
   "cell_type": "code",
   "execution_count": 9,
   "id": "c0c58a49",
   "metadata": {},
   "outputs": [
    {
     "name": "stdout",
     "output_type": "stream",
     "text": [
      "5\n",
      "10\n",
      "6\n"
     ]
    }
   ],
   "source": [
    "i = 5\n",
    "\n",
    "def f(arg = i):\n",
    "    print(arg)\n",
    "\n",
    "i=6\n",
    "f()\n",
    "f(10)\n",
    "f(i)"
   ]
  },
  {
   "cell_type": "code",
   "execution_count": 10,
   "id": "30bb556b",
   "metadata": {},
   "outputs": [
    {
     "name": "stdout",
     "output_type": "stream",
     "text": [
      "8 4\n",
      "8\n",
      "20\n"
     ]
    }
   ],
   "source": [
    "a = 1\n",
    "\n",
    "def f(x):\n",
    "    global a\n",
    "    a = 4\n",
    "    return a * x\n",
    "\n",
    "def f1(x):\n",
    "    return (a * x)\n",
    "    \n",
    "print(f(2), a)\n",
    "print(f1(2))\n",
    "a = 10\n",
    "print(f1(2))"
   ]
  },
  {
   "cell_type": "code",
   "execution_count": 11,
   "id": "1727ed48",
   "metadata": {},
   "outputs": [
    {
     "name": "stdout",
     "output_type": "stream",
     "text": [
      "1\n",
      "()\n",
      "1\n",
      "(2,)\n",
      "1\n",
      "(2, 3)\n"
     ]
    }
   ],
   "source": [
    "def f(a, *args):\n",
    "    print(a)\n",
    "    print(args)\n",
    "\n",
    "f(1)\n",
    "f(1,2)\n",
    "f(1,2,3)"
   ]
  },
  {
   "cell_type": "code",
   "execution_count": 12,
   "id": "fcf477b8",
   "metadata": {},
   "outputs": [
    {
     "name": "stdout",
     "output_type": "stream",
     "text": [
      "12345\n"
     ]
    },
    {
     "data": {
      "text/plain": [
       "'Teste'"
      ]
     },
     "execution_count": 12,
     "metadata": {},
     "output_type": "execute_result"
    }
   ],
   "source": [
    "class MyClass:\n",
    "    \"\"\"\n",
    "    uma classe simples\n",
    "    \"\"\"\n",
    "    i = 12345\n",
    "    def f(self):\n",
    "        return \"Teste\"\n",
    "\n",
    "a = MyClass()\n",
    "\n",
    "print(a.i)\n",
    "a.f()"
   ]
  },
  {
   "cell_type": "code",
   "execution_count": 13,
   "id": "c9b922d2",
   "metadata": {},
   "outputs": [
    {
     "data": {
      "text/plain": [
       "2.23606797749979"
      ]
     },
     "execution_count": 13,
     "metadata": {},
     "output_type": "execute_result"
    }
   ],
   "source": [
    "class Complex:\n",
    "    def __init__(self, partereal, parteimaginaria):\n",
    "        self.r = partereal\n",
    "        self.i = parteimaginaria\n",
    "    \n",
    "    def norma(self):\n",
    "        return (self.r**2 + self.i**2)**0.5\n",
    "\n",
    "z = Complex(1.0, 2.0)\n",
    "z.norma()"
   ]
  },
  {
   "cell_type": "markdown",
   "id": "3b7d5add",
   "metadata": {},
   "source": [
    "## Arrays"
   ]
  },
  {
   "cell_type": "code",
   "execution_count": 14,
   "id": "68dbea3e",
   "metadata": {},
   "outputs": [
    {
     "data": {
      "text/plain": [
       "array([[0.60992872, 0.98742021, 0.72528956, 0.19388189],\n",
       "       [0.51792819, 0.09225978, 0.25132658, 0.80964873],\n",
       "       [0.51287253, 0.71711342, 0.5631944 , 0.51211323],\n",
       "       [0.97878013, 0.13614152, 0.49859649, 0.96783875]])"
      ]
     },
     "execution_count": 14,
     "metadata": {},
     "output_type": "execute_result"
    }
   ],
   "source": [
    "AA = np.random.random_sample([4,4])\n",
    "AA"
   ]
  },
  {
   "cell_type": "code",
   "execution_count": 15,
   "id": "c5865bf8",
   "metadata": {},
   "outputs": [
    {
     "name": "stdout",
     "output_type": "stream",
     "text": [
      "[0.51792819 0.09225978 0.25132658 0.80964873]\n",
      "[0.98742021 0.09225978 0.71711342 0.13614152]\n"
     ]
    }
   ],
   "source": [
    "print(AA[1,:])\n",
    "print(AA[:,1])"
   ]
  },
  {
   "cell_type": "code",
   "execution_count": 16,
   "id": "d5b517ec",
   "metadata": {},
   "outputs": [
    {
     "name": "stdout",
     "output_type": "stream",
     "text": [
      "[[0.51792819 0.09225978 0.25132658 0.80964873]\n",
      " [0.51287253 0.71711342 0.5631944  0.51211323]]\n"
     ]
    }
   ],
   "source": [
    "print(AA[(1,2),:])"
   ]
  },
  {
   "cell_type": "code",
   "execution_count": 17,
   "id": "ee7be33e",
   "metadata": {},
   "outputs": [
    {
     "name": "stdout",
     "output_type": "stream",
     "text": [
      "[0.09225978 0.25132658]\n"
     ]
    }
   ],
   "source": [
    "print(AA[1,1:-1])"
   ]
  },
  {
   "cell_type": "code",
   "execution_count": 18,
   "id": "6e7d90af",
   "metadata": {},
   "outputs": [
    {
     "name": "stdout",
     "output_type": "stream",
     "text": [
      "[[0.72528956 0.19388189]\n",
      " [0.25132658 0.80964873]]\n"
     ]
    }
   ],
   "source": [
    "print(AA[:2,2:])"
   ]
  },
  {
   "cell_type": "code",
   "execution_count": 19,
   "id": "0d09b4b1",
   "metadata": {},
   "outputs": [],
   "source": [
    "def f1(x):\n",
    "    return np.sin(x)\n",
    "\n",
    "def f2(x):\n",
    "    return x * 2\n",
    "\n",
    "def mandar_fazer1(ff, N):\n",
    "    sum = 0\n",
    "    for i in range(N):\n",
    "        sum += ff(i)\n",
    "    return sum\n",
    "\n",
    "def mandar_fazer2(N):\n",
    "    sum = 0\n",
    "    for i in range(N):\n",
    "        sum += np.sin(i)\n",
    "    return sum\n",
    "\n",
    "def mandar_fazer3(N):\n",
    "    sum = 0\n",
    "    for i in range(N):\n",
    "        sum += i * 2\n",
    "    return sum\n",
    "\n",
    "def mandar_fazer4(N):\n",
    "    return np.sum(np.arange(N, dtype = float) * 2)\n",
    "\n",
    "def mandar_fazer5(N):\n",
    "    return np.sum(np.sin(np.arange(N, dtype = float)))"
   ]
  },
  {
   "cell_type": "code",
   "execution_count": 23,
   "id": "fcfbe13d",
   "metadata": {},
   "outputs": [
    {
     "name": "stdout",
     "output_type": "stream",
     "text": [
      "1.73 s ± 0 ns per loop (mean ± std. dev. of 1 run, 1 loop each)\n",
      "200 ms ± 0 ns per loop (mean ± std. dev. of 1 run, 1 loop each)\n",
      "1.74 s ± 0 ns per loop (mean ± std. dev. of 1 run, 1 loop each)\n",
      "114 ms ± 0 ns per loop (mean ± std. dev. of 1 run, 1 loop each)\n",
      "6.59 ms ± 0 ns per loop (mean ± std. dev. of 1 run, 1 loop each)\n",
      "22.7 ms ± 0 ns per loop (mean ± std. dev. of 1 run, 1 loop each)\n"
     ]
    }
   ],
   "source": [
    "%timeit -r 1 -n 1 mandar_fazer1(f1, 1000000)\n",
    "%timeit -r 1 -n 1 mandar_fazer1(f2, 1000000)\n",
    "%timeit -r 1 -n 1 mandar_fazer2(1000000)\n",
    "%timeit -r 1 -n 1 mandar_fazer3(1000000)\n",
    "%timeit -r 1 -n 1 mandar_fazer4(1000000)\n",
    "%timeit -r 1 -n 1 mandar_fazer5(1000000)"
   ]
  },
  {
   "cell_type": "markdown",
   "id": "a962d73f",
   "metadata": {},
   "source": [
    "# Aula 5 (17/03)"
   ]
  },
  {
   "cell_type": "code",
   "execution_count": 37,
   "id": "32cc3c77",
   "metadata": {},
   "outputs": [
    {
     "data": {
      "image/png": "[encoded data removed]",
      "text/plain": [
       "<Figure size 432x288 with 1 Axes>"
      ]
     },
     "metadata": {},
     "output_type": "display_data"
    }
   ],
   "source": [
    "plt.style.use(\"ggplot\")\n",
    "x = 2**np.arange(4,14)\n",
    "tempoL = 0. * x\n",
    "count = 0\n",
    "for k in x:\n",
    "    result = %timeit -q -o -n 10 mandar_fazer1(f1,k)\n",
    "    tempoL[count] = result.average\n",
    "    count += 1\n",
    "\n",
    "plt.plot(x, tempoL, label= \"chamar uma função que calcula sin\")\n",
    "plt.plot(x, 0.000005*x, \"--\")\n",
    "\n",
    "plt.xscale(\"log\")\n",
    "plt.yscale(\"log\")"
   ]
  },
  {
   "cell_type": "code",
   "execution_count": 48,
   "id": "661bdc57",
   "metadata": {},
   "outputs": [],
   "source": [
    "def create_list(M):\n",
    "    lista = []\n",
    "    for i in range(M):\n",
    "        lista.append(i)\n",
    "    return lista\n",
    "\n",
    "def create_list2(M):\n",
    "    lista = [range(M)]\n",
    "    return lista\n",
    "\n",
    "def create_list3(M):\n",
    "    return [i for i in range(M)]\n",
    "\n",
    "def create_array(M):\n",
    "    return np.arange(M)"
   ]
  },
  {
   "cell_type": "code",
   "execution_count": 51,
   "id": "e8579198",
   "metadata": {},
   "outputs": [
    {
     "name": "stdout",
     "output_type": "stream",
     "text": [
      "124 ms ± 0 ns per loop (mean ± std. dev. of 1 run, 1 loop each)\n",
      "3.84 µs ± 0 ns per loop (mean ± std. dev. of 1 run, 1 loop each)\n",
      "56.5 ms ± 0 ns per loop (mean ± std. dev. of 1 run, 1 loop each)\n",
      "1.81 ms ± 0 ns per loop (mean ± std. dev. of 1 run, 1 loop each)\n"
     ]
    }
   ],
   "source": [
    "%timeit -r 1 -n 1 create_list(1000000)\n",
    "%timeit -r 1 -n 1 create_list2(1000000)\n",
    "%timeit -r 1 -n 1 create_list3(1000000)\n",
    "%timeit -r 1 -n 1 create_array(1000000)\n"
   ]
  },
  {
   "cell_type": "markdown",
   "id": "99a7ee66",
   "metadata": {},
   "source": [
    "# Aula 6 (21/03)"
   ]
  },
  {
   "cell_type": "code",
   "execution_count": null,
   "id": "7c1b4a46",
   "metadata": {},
   "outputs": [],
   "source": []
  }
 ],
 "metadata": {
  "kernelspec": {
   "display_name": "Python 3",
   "language": "python",
   "name": "python3"
  },
  "language_info": {
   "codemirror_mode": {
    "name": "ipython",
    "version": 3
   },
   "file_extension": ".py",
   "mimetype": "text/x-python",
   "name": "python",
   "nbconvert_exporter": "python",
   "pygments_lexer": "ipython3",
   "version": "3.9.7"
  }
 },
 "nbformat": 4,
 "nbformat_minor": 5
}
