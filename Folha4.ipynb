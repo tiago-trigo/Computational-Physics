{
 "cells": [
  {
   "cell_type": "code",
   "execution_count": 1,
   "id": "a9fd3678",
   "metadata": {},
   "outputs": [],
   "source": [
    "import numpy as np\n",
    "import matplotlib.pyplot as plt\n",
    "import pandas as pd\n",
    "%matplotlib inline\n",
    "plt.style.use(\"ggplot\")"
   ]
  },
  {
   "cell_type": "markdown",
   "id": "11483d12",
   "metadata": {},
   "source": [
    "## Exercício 1"
   ]
  },
  {
   "cell_type": "code",
   "execution_count": 2,
   "id": "8e077e9f",
   "metadata": {},
   "outputs": [],
   "source": [
    "df = pd.read_csv(\"data/velocities.txt\", delimiter = \"\t\", names = [\"time\", \"velocity\"])"
   ]
  },
  {
   "cell_type": "code",
   "execution_count": 3,
   "id": "ff636b36",
   "metadata": {},
   "outputs": [
    {
     "data": {
      "text/html": [
       "<div>\n",
       "<style scoped>\n",
       "    .dataframe tbody tr th:only-of-type {\n",
       "        vertical-align: middle;\n",
       "    }\n",
       "\n",
       "    .dataframe tbody tr th {\n",
       "        vertical-align: top;\n",
       "    }\n",
       "\n",
       "    .dataframe thead th {\n",
       "        text-align: right;\n",
       "    }\n",
       "</style>\n",
       "<table border=\"1\" class=\"dataframe\">\n",
       "  <thead>\n",
       "    <tr style=\"text-align: right;\">\n",
       "      <th></th>\n",
       "      <th>time</th>\n",
       "      <th>velocity</th>\n",
       "    </tr>\n",
       "  </thead>\n",
       "  <tbody>\n",
       "    <tr>\n",
       "      <th>0</th>\n",
       "      <td>0</td>\n",
       "      <td>0.000000</td>\n",
       "    </tr>\n",
       "    <tr>\n",
       "      <th>1</th>\n",
       "      <td>1</td>\n",
       "      <td>0.069478</td>\n",
       "    </tr>\n",
       "    <tr>\n",
       "      <th>2</th>\n",
       "      <td>2</td>\n",
       "      <td>0.137694</td>\n",
       "    </tr>\n",
       "    <tr>\n",
       "      <th>3</th>\n",
       "      <td>3</td>\n",
       "      <td>0.204332</td>\n",
       "    </tr>\n",
       "    <tr>\n",
       "      <th>4</th>\n",
       "      <td>4</td>\n",
       "      <td>0.269083</td>\n",
       "    </tr>\n",
       "    <tr>\n",
       "      <th>...</th>\n",
       "      <td>...</td>\n",
       "      <td>...</td>\n",
       "    </tr>\n",
       "    <tr>\n",
       "      <th>96</th>\n",
       "      <td>96</td>\n",
       "      <td>0.223073</td>\n",
       "    </tr>\n",
       "    <tr>\n",
       "      <th>97</th>\n",
       "      <td>97</td>\n",
       "      <td>0.254244</td>\n",
       "    </tr>\n",
       "    <tr>\n",
       "      <th>98</th>\n",
       "      <td>98</td>\n",
       "      <td>0.283753</td>\n",
       "    </tr>\n",
       "    <tr>\n",
       "      <th>99</th>\n",
       "      <td>99</td>\n",
       "      <td>0.311479</td>\n",
       "    </tr>\n",
       "    <tr>\n",
       "      <th>100</th>\n",
       "      <td>100</td>\n",
       "      <td>0.337308</td>\n",
       "    </tr>\n",
       "  </tbody>\n",
       "</table>\n",
       "<p>101 rows × 2 columns</p>\n",
       "</div>"
      ],
      "text/plain": [
       "     time  velocity\n",
       "0       0  0.000000\n",
       "1       1  0.069478\n",
       "2       2  0.137694\n",
       "3       3  0.204332\n",
       "4       4  0.269083\n",
       "..    ...       ...\n",
       "96     96  0.223073\n",
       "97     97  0.254244\n",
       "98     98  0.283753\n",
       "99     99  0.311479\n",
       "100   100  0.337308\n",
       "\n",
       "[101 rows x 2 columns]"
      ]
     },
     "execution_count": 3,
     "metadata": {},
     "output_type": "execute_result"
    }
   ],
   "source": [
    "df"
   ]
  },
  {
   "cell_type": "code",
   "execution_count": 4,
   "id": "e20cce5e",
   "metadata": {},
   "outputs": [],
   "source": [
    "df[\"total_distance\"] = np.zeros(len(df[\"time\"]))\n",
    "sum = 0 \n",
    "for i in range(1,101):\n",
    "    sum += (df[\"velocity\"][i] + df[\"velocity\"][i-1])*(df[\"time\"][i] - df[\"time\"][i-1])/2\n",
    "    df.loc[i,\"total_distance\"] += sum"
   ]
  },
  {
   "cell_type": "code",
   "execution_count": 5,
   "id": "89511636",
   "metadata": {},
   "outputs": [
    {
     "data": {
      "text/html": [
       "<div>\n",
       "<style scoped>\n",
       "    .dataframe tbody tr th:only-of-type {\n",
       "        vertical-align: middle;\n",
       "    }\n",
       "\n",
       "    .dataframe tbody tr th {\n",
       "        vertical-align: top;\n",
       "    }\n",
       "\n",
       "    .dataframe thead th {\n",
       "        text-align: right;\n",
       "    }\n",
       "</style>\n",
       "<table border=\"1\" class=\"dataframe\">\n",
       "  <thead>\n",
       "    <tr style=\"text-align: right;\">\n",
       "      <th></th>\n",
       "      <th>time</th>\n",
       "      <th>velocity</th>\n",
       "      <th>total_distance</th>\n",
       "    </tr>\n",
       "  </thead>\n",
       "  <tbody>\n",
       "    <tr>\n",
       "      <th>0</th>\n",
       "      <td>0</td>\n",
       "      <td>0.000000</td>\n",
       "      <td>0.000000</td>\n",
       "    </tr>\n",
       "    <tr>\n",
       "      <th>1</th>\n",
       "      <td>1</td>\n",
       "      <td>0.069478</td>\n",
       "      <td>0.034739</td>\n",
       "    </tr>\n",
       "    <tr>\n",
       "      <th>2</th>\n",
       "      <td>2</td>\n",
       "      <td>0.137694</td>\n",
       "      <td>0.138325</td>\n",
       "    </tr>\n",
       "    <tr>\n",
       "      <th>3</th>\n",
       "      <td>3</td>\n",
       "      <td>0.204332</td>\n",
       "      <td>0.309338</td>\n",
       "    </tr>\n",
       "    <tr>\n",
       "      <th>4</th>\n",
       "      <td>4</td>\n",
       "      <td>0.269083</td>\n",
       "      <td>0.546045</td>\n",
       "    </tr>\n",
       "    <tr>\n",
       "      <th>...</th>\n",
       "      <td>...</td>\n",
       "      <td>...</td>\n",
       "      <td>...</td>\n",
       "    </tr>\n",
       "    <tr>\n",
       "      <th>96</th>\n",
       "      <td>96</td>\n",
       "      <td>0.223073</td>\n",
       "      <td>7.089258</td>\n",
       "    </tr>\n",
       "    <tr>\n",
       "      <th>97</th>\n",
       "      <td>97</td>\n",
       "      <td>0.254244</td>\n",
       "      <td>7.327916</td>\n",
       "    </tr>\n",
       "    <tr>\n",
       "      <th>98</th>\n",
       "      <td>98</td>\n",
       "      <td>0.283753</td>\n",
       "      <td>7.596915</td>\n",
       "    </tr>\n",
       "    <tr>\n",
       "      <th>99</th>\n",
       "      <td>99</td>\n",
       "      <td>0.311479</td>\n",
       "      <td>7.894531</td>\n",
       "    </tr>\n",
       "    <tr>\n",
       "      <th>100</th>\n",
       "      <td>100</td>\n",
       "      <td>0.337308</td>\n",
       "      <td>8.218924</td>\n",
       "    </tr>\n",
       "  </tbody>\n",
       "</table>\n",
       "<p>101 rows × 3 columns</p>\n",
       "</div>"
      ],
      "text/plain": [
       "     time  velocity  total_distance\n",
       "0       0  0.000000        0.000000\n",
       "1       1  0.069478        0.034739\n",
       "2       2  0.137694        0.138325\n",
       "3       3  0.204332        0.309338\n",
       "4       4  0.269083        0.546045\n",
       "..    ...       ...             ...\n",
       "96     96  0.223073        7.089258\n",
       "97     97  0.254244        7.327916\n",
       "98     98  0.283753        7.596915\n",
       "99     99  0.311479        7.894531\n",
       "100   100  0.337308        8.218924\n",
       "\n",
       "[101 rows x 3 columns]"
      ]
     },
     "execution_count": 5,
     "metadata": {},
     "output_type": "execute_result"
    }
   ],
   "source": [
    "df"
   ]
  },
  {
   "cell_type": "code",
   "execution_count": 6,
   "id": "20a7ed4f",
   "metadata": {},
   "outputs": [
    {
     "data": {
      "text/plain": [
       "<matplotlib.legend.Legend at 0x7f1cf1250970>"
      ]
     },
     "execution_count": 6,
     "metadata": {},
     "output_type": "execute_result"
    },
    {
     "data": {
      "image/png": "[encoded data removed]",
      "text/plain": [
       "<Figure size 432x288 with 2 Axes>"
      ]
     },
     "metadata": {},
     "output_type": "display_data"
    }
   ],
   "source": [
    "fig, ax1 = plt.subplots()\n",
    "ax2 = ax1.twinx()\n",
    "plt.grid(False)\n",
    "\n",
    "ax1.plot(df[\"time\"], df[\"velocity\"], color=\"b\", label = \"velocity\")\n",
    "ax2.plot(df[\"time\"], df[\"total_distance\"], label = \"total distance\")\n",
    "\n",
    "fig.legend(loc ='upper right')"
   ]
  },
  {
   "cell_type": "markdown",
   "id": "fc2f2d2a",
   "metadata": {},
   "source": [
    "## Exercise 2"
   ]
  },
  {
   "cell_type": "code",
   "execution_count": 7,
   "id": "9181a039",
   "metadata": {},
   "outputs": [],
   "source": [
    "def funcao(x):\n",
    "    return (x**4 - 2*x + 1)"
   ]
  },
  {
   "cell_type": "code",
   "execution_count": 8,
   "id": "42a117e0",
   "metadata": {},
   "outputs": [
    {
     "data": {
      "text/plain": [
       "4.400026666666667"
      ]
     },
     "execution_count": 8,
     "metadata": {},
     "output_type": "execute_result"
    }
   ],
   "source": [
    "def simpson(a,b,f,n):\n",
    "    x = np.linspace(a,b,n+1)\n",
    "    sum = 0\n",
    "    for i,v in enumerate(x[0:n]):\n",
    "        h = (x[i+1] - v)/2\n",
    "        c = v + h\n",
    "        sum += (f(v) + 4*f(c) + f(x[i+1]))*h/3\n",
    "    return sum\n",
    "\n",
    "sum = simpson(0,2,funcao, 10)\n",
    "sum"
   ]
  },
  {
   "cell_type": "code",
   "execution_count": 9,
   "id": "3c457238",
   "metadata": {},
   "outputs": [
    {
     "name": "stdout",
     "output_type": "stream",
     "text": [
      "erro absoluto = 2.6666666666841365e-05\n"
     ]
    }
   ],
   "source": [
    "print(f\"erro absoluto = {abs(sum - 4.4)}\")"
   ]
  },
  {
   "cell_type": "code",
   "execution_count": 10,
   "id": "74156fdb",
   "metadata": {},
   "outputs": [
    {
     "name": "stdout",
     "output_type": "stream",
     "text": [
      "4.400000002666666\n",
      "4.400000000000267\n"
     ]
    }
   ],
   "source": [
    "print(simpson(0,2,funcao,100))\n",
    "print(simpson(0,2,funcao,1000))"
   ]
  },
  {
   "cell_type": "markdown",
   "id": "c7c051b4",
   "metadata": {},
   "source": [
    "## Exercise 3"
   ]
  },
  {
   "cell_type": "code",
   "execution_count": 11,
   "id": "fbd28be6",
   "metadata": {},
   "outputs": [],
   "source": [
    "def f(x):\n",
    "    return np.exp(-x**2)"
   ]
  },
  {
   "cell_type": "code",
   "execution_count": 12,
   "id": "2e6f1dfe",
   "metadata": {
    "scrolled": true
   },
   "outputs": [
    {
     "data": {
      "text/plain": [
       "[<matplotlib.lines.Line2D at 0x7f1cf010c520>]"
      ]
     },
     "execution_count": 12,
     "metadata": {},
     "output_type": "execute_result"
    },
    {
     "data": {
      "image/png": "[encoded data removed]",
      "text/plain": [
       "<Figure size 432x288 with 1 Axes>"
      ]
     },
     "metadata": {},
     "output_type": "display_data"
    }
   ],
   "source": [
    "#vou usar o método anterior pq sou preguiçoso\n",
    "E_x = [simpson(0,x,f,100) for x in np.arange(0,3,0.1)]\n",
    "fig, ax = plt.subplots()\n",
    "ax.plot(np.arange(0,3,0.1), E_x)"
   ]
  },
  {
   "cell_type": "markdown",
   "id": "a433d115",
   "metadata": {},
   "source": [
    "## Exercise 4"
   ]
  },
  {
   "cell_type": "code",
   "execution_count": 13,
   "id": "78250434",
   "metadata": {},
   "outputs": [],
   "source": [
    "def f2(t,xx,m):\n",
    "    return np.cos(m*t-xx*np.sin(t))\n",
    "    \n",
    "def simpson2(a,b,f,n,xx,m):\n",
    "    x = np.linspace(a,b,n)\n",
    "    sum = 0\n",
    "    for i,v in enumerate(x[0:n-1]):\n",
    "        h = (x[i+1] - v)/2\n",
    "        c = v + h\n",
    "        sum += (f(v,xx,m) + 4*f(c,xx,m) + f(x[i+1],xx,m))*h/3\n",
    "    return sum\n",
    "\n",
    "def J(m,x):\n",
    "    return (1/np.pi * simpson2(0,np.pi,f2,1000,x,m))"
   ]
  },
  {
   "cell_type": "code",
   "execution_count": 14,
   "id": "2acfa1d1",
   "metadata": {},
   "outputs": [
    {
     "data": {
      "text/plain": [
       "<matplotlib.legend.Legend at 0x7f1cf00e77f0>"
      ]
     },
     "execution_count": 14,
     "metadata": {},
     "output_type": "execute_result"
    },
    {
     "data": {
      "image/png": "[encoded data removed]",
      "text/plain": [
       "<Figure size 432x288 with 1 Axes>"
      ]
     },
     "metadata": {},
     "output_type": "display_data"
    }
   ],
   "source": [
    "x = np.linspace(0,20,100)\n",
    "J0 = [J(0,xx) for xx in x]\n",
    "J1 = [J(1,xx) for xx in x]\n",
    "J2 = [J(2,xx) for xx in x]\n",
    "\n",
    "fig, ax = plt.subplots()\n",
    "\n",
    "ax.plot(x, J0,c = \"b\", label = \"J_0\")\n",
    "ax.plot(x, J1, c = \"r\", label = \"J_1\")\n",
    "ax.plot(x, J2, c = \"black\", label = \"J_2\")\n",
    "\n",
    "fig.legend()"
   ]
  },
  {
   "cell_type": "code",
   "execution_count": null,
   "id": "19aa4c81",
   "metadata": {},
   "outputs": [],
   "source": []
  },
  {
   "cell_type": "code",
   "execution_count": null,
   "id": "ab1de7bf",
   "metadata": {},
   "outputs": [],
   "source": []
  },
  {
   "cell_type": "code",
   "execution_count": null,
   "id": "b5fdea29",
   "metadata": {},
   "outputs": [],
   "source": []
  }
 ],
 "metadata": {
  "kernelspec": {
   "display_name": "Python 3",
   "language": "python",
   "name": "python3"
  },
  "language_info": {
   "codemirror_mode": {
    "name": "ipython",
    "version": 3
   },
   "file_extension": ".py",
   "mimetype": "text/x-python",
   "name": "python",
   "nbconvert_exporter": "python",
   "pygments_lexer": "ipython3",
   "version": "3.9.7"
  }
 },
 "nbformat": 4,
 "nbformat_minor": 5
}
